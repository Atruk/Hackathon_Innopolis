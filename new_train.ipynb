{
  "nbformat": 4,
  "nbformat_minor": 0,
  "metadata": {
    "colab": {
      "name": "new_train.ipynb",
      "provenance": [],
      "collapsed_sections": [],
      "include_colab_link": true
    },
    "kernelspec": {
      "name": "python3",
      "display_name": "Python 3"
    },
    "language_info": {
      "name": "python"
    }
  },
  "cells": [
    {
      "cell_type": "markdown",
      "metadata": {
        "id": "view-in-github",
        "colab_type": "text"
      },
      "source": [
        "<a href=\"https://colab.research.google.com/github/Atruk/Hackathon_Innopolis/blob/main/new_train.ipynb\" target=\"_parent\"><img src=\"https://colab.research.google.com/assets/colab-badge.svg\" alt=\"Open In Colab\"/></a>"
      ]
    },
    {
      "cell_type": "code",
      "execution_count": null,
      "metadata": {
        "id": "dghARTqLCJXq"
      },
      "outputs": [],
      "source": [
        "import numpy as np \n",
        "from tensorflow.keras.models import Model, Sequential, load_model \n",
        "import re \n",
        "from tensorflow.keras.preprocessing.text import Tokenizer \n",
        "from sklearn.model_selection import train_test_split\n",
        "\n",
        "from tensorflow.keras.layers import Dense, BatchNormalization, Dropout, Activation\n",
        "from tensorflow.keras import backend as K \n",
        "from tensorflow.keras.optimizers import Adam, Adamax, Adadelta \n",
        "from tensorflow.keras import utils \n",
        "from google.colab import files \n",
        "import matplotlib.pyplot as plt \n",
        "from gensim.models import word2vec \n",
        "import os \n",
        "import pandas as pd \n",
        "import time \n",
        "from sklearn.preprocessing import StandardScaler\n",
        "import matplotlib.pyplot as plt\n",
        "from sklearn.metrics import f1_score, roc_auc_score\n",
        "from sklearn.model_selection import StratifiedKFold\n",
        "\n",
        "from collections import Counter\n",
        "# from sklearn.compose import ColumnTransformer\n",
        "from sklearn.pipeline import make_pipeline\n",
        "# from sklearn.preprocessing import OneHotEncoder\n",
        "# from sklearn.preprocessing import FunctionTransformer\n",
        "# from sklearn.impute import SimpleImputer\n",
        "import os\n",
        "import time\n",
        "from functools import wraps"
      ]
    },
    {
      "cell_type": "code",
      "source": [
        "get_y_train = '/content/drive/MyDrive/Hackathon_Innopolis/train.csv'\n",
        "get_x_train = '/content/drive/MyDrive/Hackathon_Innopolis/new_train_dataset.csv'"
      ],
      "metadata": {
        "id": "cMZ-yG4zleC-"
      },
      "execution_count": null,
      "outputs": []
    },
    {
      "cell_type": "code",
      "source": [
        "y_train = pd.read_csv(get_y_train, usecols=['Active'])"
      ],
      "metadata": {
        "id": "f48ZcdlxleNS"
      },
      "execution_count": null,
      "outputs": []
    },
    {
      "cell_type": "code",
      "source": [
        "y_train[\"Active\"] = y_train[\"Active\"].astype(\"int64\")\n",
        "y_train.shape"
      ],
      "metadata": {
        "id": "lJ13JeXMleS_",
        "colab": {
          "base_uri": "https://localhost:8080/"
        },
        "outputId": "59984ca6-de30-4c53-d87a-894e31055a58"
      },
      "execution_count": null,
      "outputs": [
        {
          "output_type": "execute_result",
          "data": {
            "text/plain": [
              "(5557, 1)"
            ]
          },
          "metadata": {},
          "execution_count": 4
        }
      ]
    },
    {
      "cell_type": "code",
      "source": [
        "x_train = pd.read_csv(get_x_train)"
      ],
      "metadata": {
        "id": "6nffVMN5leWC"
      },
      "execution_count": null,
      "outputs": []
    },
    {
      "cell_type": "code",
      "source": [
        "df = pd.read_csv(get_x_train)\n",
        "df.info()"
      ],
      "metadata": {
        "colab": {
          "base_uri": "https://localhost:8080/"
        },
        "id": "E5zPre5bJNwg",
        "outputId": "e3a8e7df-ba7b-4bd7-adf6-1c2174b87521"
      },
      "execution_count": null,
      "outputs": [
        {
          "output_type": "stream",
          "name": "stdout",
          "text": [
            "<class 'pandas.core.frame.DataFrame'>\n",
            "RangeIndex: 5557 entries, 0 to 5556\n",
            "Columns: 104 entries, tpsa to 99\n",
            "dtypes: float64(102), int64(2)\n",
            "memory usage: 4.4 MB\n"
          ]
        }
      ]
    },
    {
      "cell_type": "code",
      "source": [
        "print(x_train.shape)\n",
        "print(y_train.shape)"
      ],
      "metadata": {
        "colab": {
          "base_uri": "https://localhost:8080/"
        },
        "id": "r2RfCGDYFzkH",
        "outputId": "8c494090-7e20-4764-e947-6855a44b7676"
      },
      "execution_count": null,
      "outputs": [
        {
          "output_type": "stream",
          "name": "stdout",
          "text": [
            "(5557, 104)\n",
            "(4445, 1)\n"
          ]
        }
      ]
    },
    {
      "cell_type": "code",
      "source": [
        "# y = y_train['Active'].values\n",
        "X_train, X_test, y_train, y_test = train_test_split(x_train, y_train,\n",
        "                                                    test_size=.20, shuffle=True, # .20, 0.30, 0.1\n",
        "                                                    stratify=y_train, random_state=123) # 123, 42"
      ],
      "metadata": {
        "id": "WKvvKjslpGji"
      },
      "execution_count": null,
      "outputs": []
    },
    {
      "cell_type": "code",
      "source": [
        "X_train = StandardScaler().fit_transform(X_train)\n",
        "X_test = StandardScaler().fit_transform(X_test)"
      ],
      "metadata": {
        "id": "5vho2tNQKJMS"
      },
      "execution_count": null,
      "outputs": []
    },
    {
      "cell_type": "code",
      "source": [
        "print(X_train.shape)\n",
        "print(y_train.shape)\n",
        "print(X_test.shape)\n",
        "print(y_test.shape)"
      ],
      "metadata": {
        "colab": {
          "base_uri": "https://localhost:8080/"
        },
        "id": "0NKNBeTZG952",
        "outputId": "67e5839a-dda5-434b-8fb1-6b1e8c208e66"
      },
      "execution_count": null,
      "outputs": [
        {
          "output_type": "stream",
          "name": "stdout",
          "text": [
            "(4445, 104)\n",
            "(4445, 1)\n",
            "(1112, 104)\n",
            "(1112, 1)\n"
          ]
        }
      ]
    },
    {
      "cell_type": "markdown",
      "source": [
        "# Model_v1"
      ],
      "metadata": {
        "id": "RDtxIw8qauPK"
      }
    },
    {
      "cell_type": "code",
      "source": [
        "# weights = '/content/drive/MyDrive/Hackathon_Innopolis/model_weights_v2.h5'\n",
        "model = '/content/drive/MyDrive/Hackathon_Innopolis/model_v2.h5'\n",
        "model = load_model(model)"
      ],
      "metadata": {
        "id": "IuhMPAuGpnBd"
      },
      "execution_count": null,
      "outputs": []
    },
    {
      "cell_type": "code",
      "source": [
        "def createModel():\n",
        "  model = Sequential()\n",
        "  model.add(Dense(256, input_dim = X_train.shape[1], activation='relu'))\n",
        "  # model.add(BatchNormalization())\n",
        "  model.add(Dropout(0.3))\n",
        "  model.add(Dense(164, activation='relu'))\n",
        "  # model.add(BatchNormalization())\n",
        "  model.add(Dropout(0.3))\n",
        "  model.add(Dense(256, activation='relu'))\n",
        "  # model.add(BatchNormalization())\n",
        "  model.add(Dropout(0.3))\n",
        "  model.add(Dense(164, activation='relu'))\n",
        "  # model.add(BatchNormalization())\n",
        "  model.add(Dropout(0.3))\n",
        "  model.add(Dense(128, activation='relu'))\n",
        "  model.add(Dense(1, activation='sigmoid'))\n",
        "  # model.load_weights('model.h5')\n",
        "  model.compile(loss=\"binary_crossentropy\", optimizer=Adam(0.001))\n",
        "  return model"
      ],
      "metadata": {
        "id": "Fo7-fBt7H7lm"
      },
      "execution_count": null,
      "outputs": []
    },
    {
      "cell_type": "code",
      "source": [
        "model = createModel()"
      ],
      "metadata": {
        "id": "DXUqTBGhIWJF"
      },
      "execution_count": null,
      "outputs": []
    },
    {
      "cell_type": "code",
      "source": [
        "train = model.fit(X_train, y_train, batch_size = 128, epochs = 200)"
      ],
      "metadata": {
        "id": "jK1mjTy_QcoS"
      },
      "execution_count": null,
      "outputs": []
    },
    {
      "cell_type": "code",
      "source": [
        "plt.plot(train.history['loss'], label='loss')\n",
        "plt.show()"
      ],
      "metadata": {
        "colab": {
          "base_uri": "https://localhost:8080/",
          "height": 265
        },
        "id": "OJCA-WD3LUmF",
        "outputId": "43f04d0e-3939-4a35-f048-1521bdc1d77b"
      },
      "execution_count": null,
      "outputs": [
        {
          "output_type": "display_data",
          "data": {
            "image/png": "[encoded data removed]",
            "text/plain": [
              "<Figure size 432x288 with 1 Axes>"
            ]
          },
          "metadata": {
            "needs_background": "light"
          }
        }
      ]
    },
    {
      "cell_type": "code",
      "source": [
        "pred = (model.predict(X_test) > 0.5).astype(\"int\")\n",
        "values, counts = np.unique(pred, return_counts=True)\n",
        "print(values, counts)\n",
        "f1_score(y_test, pred, average='binary')"
      ],
      "metadata": {
        "colab": {
          "base_uri": "https://localhost:8080/"
        },
        "id": "kja3nwRsL_oV",
        "outputId": "2bd36755-78d2-4b81-902e-f1a9cecec4fc"
      },
      "execution_count": null,
      "outputs": [
        {
          "output_type": "stream",
          "name": "stdout",
          "text": [
            "[0 1] [1087   25]\n"
          ]
        },
        {
          "output_type": "execute_result",
          "data": {
            "text/plain": [
              "0.3636363636363636"
            ]
          },
          "metadata": {},
          "execution_count": 657
        }
      ]
    },
    {
      "cell_type": "code",
      "source": [
        "model.save_weights('model_weights_v2.h5')\n",
        "model.save('model_v2.h5')"
      ],
      "metadata": {
        "id": "mMje1ZGnQHIZ"
      },
      "execution_count": null,
      "outputs": []
    },
    {
      "cell_type": "markdown",
      "source": [
        "# Predict Test data"
      ],
      "metadata": {
        "id": "cQm0cPg6a3Ig"
      }
    },
    {
      "cell_type": "code",
      "source": [
        "df_test = pd.read_csv('/content/drive/MyDrive/Hackathon_Innopolis/test.csv', usecols=['Smiles'])\n",
        "new_test_dataset = pd.read_csv('/content/drive/MyDrive/Hackathon_Innopolis/new_test_dataset.csv')"
      ],
      "metadata": {
        "id": "eBC4pQz6SpPd"
      },
      "execution_count": null,
      "outputs": []
    },
    {
      "cell_type": "code",
      "source": [
        "# to_csv Submission.csv\n",
        "X_test_dataset = StandardScaler().fit_transform(new_test_dataset)\n",
        "test_prediction = (model.predict(X_test_dataset) > 0.5).astype(\"int\")\n",
        "print(test_prediction)\n",
        "\n",
        "values, counts = np.unique(test_prediction, return_counts=True)\n",
        "print(values, counts)\n",
        "\n",
        "# df_sub = pd.read_csv('/content/drive/MyDrive/Hackathon_Innopolis/test.csv', usecols=['Smiles'])\n",
        "df_test['Active'] = test_prediction\n",
        "print(df_test['Active'].value_counts())\n",
        "\n",
        "df_test.to_csv('submission.csv', index=False)\n",
        "df = pd.read_csv('/content/submission.csv')\n",
        "print(df['Active'].value_counts())"
      ],
      "metadata": {
        "colab": {
          "base_uri": "https://localhost:8080/"
        },
        "id": "EqTD0fT6OUzL",
        "outputId": "460e8abf-e100-4384-f700-0050691c206b"
      },
      "execution_count": null,
      "outputs": [
        {
          "output_type": "stream",
          "name": "stdout",
          "text": [
            "[[0]\n",
            " [0]\n",
            " [1]\n",
            " ...\n",
            " [0]\n",
            " [0]\n",
            " [0]]\n",
            "[0 1] [1593   21]\n",
            "0    1593\n",
            "1      21\n",
            "Name: Active, dtype: int64\n",
            "0    1593\n",
            "1      21\n",
            "Name: Active, dtype: int64\n"
          ]
        }
      ]
    },
    {
      "cell_type": "code",
      "source": [
        ""
      ],
      "metadata": {
        "id": "3cwji9TTYvI3"
      },
      "execution_count": null,
      "outputs": []
    }
  ]
}